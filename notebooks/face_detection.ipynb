{
 "cells": [
  {
   "cell_type": "code",
   "execution_count": 3,
   "metadata": {},
   "outputs": [
    {
     "name": "stdout",
     "output_type": "stream",
     "text": [
      "/home/felikin/rubricas/ia-fucrubricasacademica-bff\n"
     ]
    },
    {
     "name": "stderr",
     "output_type": "stream",
     "text": [
      "/home/felikin/rubricas/ia-fucrubricasacademica-bff/rubricas/lib/python3.11/site-packages/IPython/core/magics/osm.py:417: UserWarning: This is now an optional IPython functionality, setting dhist requires you to install the `pickleshare` library.\n",
      "  self.shell.db['dhist'] = compress_dhist(dhist)[-100:]\n"
     ]
    }
   ],
   "source": [
    "%cd .."
   ]
  },
  {
   "cell_type": "code",
   "execution_count": 4,
   "metadata": {},
   "outputs": [
    {
     "name": "stdout",
     "output_type": "stream",
     "text": [
      "\n",
      "WARNING ⚠️ inference results will accumulate in RAM unless `stream=True` is passed, causing potential out-of-memory\n",
      "errors for large sources or long-running streams and videos. See https://docs.ultralytics.com/modes/predict/ for help.\n",
      "\n",
      "Example:\n",
      "    results = model(source=..., stream=True)  # generator of Results objects\n",
      "    for r in results:\n",
      "        boxes = r.boxes  # Boxes object for bbox outputs\n",
      "        masks = r.masks  # Masks object for segment masks outputs\n",
      "        probs = r.probs  # Class probabilities for classification outputs\n",
      "\n",
      "El profesor encendió la cámara\n"
     ]
    }
   ],
   "source": [
    "from ultralytics import YOLO\n",
    "\n",
    "video = 'data/Juan Sebastian Lozano.mp4'\n",
    "model = YOLO(\"models/yolov8n.pt\")  # load a pretrained model (recommended for training)\n",
    "detections = model.predict(source=video, conf=0.25, vid_stride=1000, classes=[0], verbose=False)  # predict on an image\n",
    "names = model.names\n",
    "sum = 0 \n",
    "\n",
    "for detection in detections:\n",
    "  for class_name in detection.boxes.cls:\n",
    "    if(names[int(class_name)])==\"person\":\n",
    "      sum += 1\n",
    "\n",
    "if sum>=len(detections)*0.6:\n",
    "  print(\"El profesor encendió la cámara\")"
   ]
  }
 ],
 "metadata": {
  "kernelspec": {
   "display_name": "rubricas",
   "language": "python",
   "name": "python3"
  },
  "language_info": {
   "codemirror_mode": {
    "name": "ipython",
    "version": 3
   },
   "file_extension": ".py",
   "mimetype": "text/x-python",
   "name": "python",
   "nbconvert_exporter": "python",
   "pygments_lexer": "ipython3",
   "version": "3.11.5"
  }
 },
 "nbformat": 4,
 "nbformat_minor": 2
}
